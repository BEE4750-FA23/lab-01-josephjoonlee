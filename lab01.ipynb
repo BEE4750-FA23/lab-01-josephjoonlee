{
  "cells": [
    {
      "cell_type": "markdown",
      "metadata": {},
      "source": [
        "# BEE 4750 Lab 1: Julia Basics\n",
        "\n",
        "**Name**:\n",
        "\n",
        "**ID**:\n",
        "\n",
        "> **Due Date**\n",
        ">\n",
        "> Friday, 9/1/23, 9:00pm\n",
        "\n",
        "## Setup\n",
        "\n",
        "The following code should go at the top of most Julia scripts; it will\n",
        "load the local package environment and install any needed packages. You\n",
        "will see this often and shouldn’t need to touch it."
      ],
      "id": "93498ab3-7e3d-4f25-8f89-8b7e7ad7374e"
    },
    {
      "cell_type": "code",
      "execution_count": 1,
      "metadata": {},
      "outputs": [],
      "source": [
        "import Pkg\n",
        "Pkg.activate(\".\")\n",
        "Pkg.instantiate()"
      ],
      "id": "758e1834"
    },
    {
      "cell_type": "markdown",
      "metadata": {},
      "source": [
        "This next cell loads packages which are required for the rest of the\n",
        "code evaluation. In this case, we only need to load the `Plots.jl`\n",
        "plotting package, but you will see others over the course of the\n",
        "semester (and can add more if desired; just make sure that you’ve [added\n",
        "the new packages to the\n",
        "environment](https://viveks.me/environmental-systems-analysis/tutorials/julia-basics.html#package-management)).\n",
        "Standard Julia practice is to load all of the needed packages at the top\n",
        "of the file."
      ],
      "id": "25177136-c778-4e02-8489-45dd836c46ee"
    },
    {
      "cell_type": "code",
      "execution_count": 2,
      "metadata": {},
      "outputs": [],
      "source": [
        "using Plots"
      ],
      "id": "ea1ce7e2"
    },
    {
      "cell_type": "markdown",
      "metadata": {},
      "source": [
        "## Introduction\n",
        "\n",
        "### Julia\n",
        "\n",
        "Julia is an up-and-coming language, originally developed for scientific\n",
        "programming. While learning a new programming language always has its\n",
        "hiccups, the good news is that if you’ve programmed in a high-level\n",
        "language such as Python or MATLAB, most Julia concepts should look\n",
        "familiar.\n",
        "\n",
        "If you have not successfully set up Julia, follow the instructions in\n",
        "[Tools\n",
        "Setup](https://viveks.me/environmental-systems-analysis/setup.html)\n",
        "and/or ask for help.\n",
        "\n",
        "You can use other editors for this course, but our recommendation is\n",
        "[Visual Studio Code](https://code.visualstudio.com/) with the [Julia\n",
        "extension](https://marketplace.visualstudio.com/items?itemName=julialang.language-julia),\n",
        "which will make life a *lot* simpler! You should have set this up by\n",
        "following the [Tools\n",
        "Setup](https://viveks.me/environmental-systems-analysis/setup.html)\n",
        "instructions, but if not, do so now and/or ask for help.\n",
        "\n",
        "### Jupyter Notebooks\n",
        "\n",
        "Jupyter notebooks integrate text and equations in Markdown with Julia\n",
        "(or Python, or R) code. To do this, Jupyter notebooks consist of two\n",
        "types of “cells”: code cells and Markdown (text) cells.\n",
        "\n",
        "Click once on this section of text. A box will appear around this text\n",
        "(and some areas above/below it) - all of that is within this cell.\n",
        "\n",
        "Markdown is a text markup framework for formatting language that makes\n",
        "things look pretty when viewed across different platforms: web browsers,\n",
        "notebooks, and so forth. Text written in Markdown can also include\n",
        "hyperlinks, LaTeX equations, section headers, and images, among other\n",
        "features (most of [the course\n",
        "website](https://viveks.me/climate-risk-analysis) and the lecture notes\n",
        "were all written in Markdown!). [Here is a basic Markdown cheat\n",
        "sheet](https://www.markdownguide.org/cheat-sheet/).\n",
        "\n",
        "What you are looking at right now is the formatted text after the\n",
        "Markdown is processed. To see the raw Markdown, do one of:\n",
        "\n",
        "-   press `Enter` while that cell is selected, or\n",
        "-   double-click on that cell.\n",
        "\n",
        "------------------------------------------------------------------------\n",
        "\n",
        "A couple of the features you will see in this Markdown cell:\n",
        "\n",
        "-   The `---` command creates a horizontal line. This is also nice for\n",
        "    separating sections.\n",
        "-   Backticks (`` `...` ``) can be used to format and highlight code,\n",
        "    keystrokes, etc.\n",
        "-   The `#` sign is used to create a new section header; two `#` signs\n",
        "    (`##`) is used to create a new subsection header; `###` creates a\n",
        "    subsubsection, and so on.\n",
        "-   You can create a bulleted list by using the asterisk `*` or a dash\n",
        "    `-` and a space.\n",
        "-   You can create regular text by just typing as usual.\n",
        "-   You can create **bold-faced text** by wrapping it with two asterisks\n",
        "    on both sides.\n",
        "-   You can create *italicized text* by wrapping it with a single\n",
        "    asterisk on both sides.\n",
        "-   To create a new paragraph, you must include a blank line between the\n",
        "    old and new paragraphs.\n",
        "\n",
        "At this point you might be wondering how to turn this cell back into the\n",
        "fully formatted Markdown text instead of the raw Markdown you’re\n",
        "probably still looking at. You have a couple of options, depending on\n",
        "your platform, but the most consistent is to type `Shift + Enter` to\n",
        "**execute** the cell (this is also how to run code, but more on that\n",
        "later).\n",
        "\n",
        "Additionally, you will frequently need to create new cells in your\n",
        "Jupyter notebooks. How you do this will depend on how you interact with\n",
        "the notebook, but try to figure this out now.\n",
        "\n",
        "One tip is to think carefully about what bits of code should be in the\n",
        "same cell, as you typically only see output from the last command in a\n",
        "cell. For example, compare the following:"
      ],
      "id": "946ce50c-e799-42f1-987f-120af4c15e54"
    },
    {
      "cell_type": "code",
      "execution_count": 3,
      "metadata": {},
      "outputs": [
        {
          "output_type": "display_data",
          "metadata": {},
          "data": {
            "text/plain": [
              "-0.9589242746631385"
            ]
          }
        }
      ],
      "source": [
        "x = 5\n",
        "sin(x)"
      ],
      "id": "94e5064c"
    },
    {
      "cell_type": "markdown",
      "metadata": {},
      "source": [
        "with"
      ],
      "id": "b7d03a4e-94eb-4a34-a475-548f37f1adf2"
    },
    {
      "cell_type": "code",
      "execution_count": 4,
      "metadata": {},
      "outputs": [
        {
          "output_type": "display_data",
          "metadata": {},
          "data": {
            "text/plain": [
              "5"
            ]
          }
        }
      ],
      "source": [
        "x = 5"
      ],
      "id": "f64ac29e"
    },
    {
      "cell_type": "code",
      "execution_count": 5,
      "metadata": {},
      "outputs": [
        {
          "output_type": "display_data",
          "metadata": {},
          "data": {
            "text/plain": [
              "-0.9589242746631385"
            ]
          }
        }
      ],
      "source": [
        "sin(x)"
      ],
      "id": "d4e27ddb"
    },
    {
      "cell_type": "markdown",
      "metadata": {},
      "source": [
        "In Julia, you can also suppress the output of a command with a\n",
        "semi-colon:"
      ],
      "id": "fd153b3b-bebe-49ce-b713-78824b0fe177"
    },
    {
      "cell_type": "code",
      "execution_count": 6,
      "metadata": {},
      "outputs": [],
      "source": [
        "sin(x);"
      ],
      "id": "caca6971"
    },
    {
      "cell_type": "markdown",
      "metadata": {},
      "source": [
        "which can help if you want to split some code out for clarity or to\n",
        "insert some text prior to it, but don’t want to clutter the notebook\n",
        "with its output.\n",
        "\n",
        "For code cells, to execute the commands within the cell, we also press\n",
        "`Shift+Enter`.\n",
        "\n",
        "Finally, **make sure that you evaluate all of the code cells in order\n",
        "before submitting**. One bad outcome with notebooks occurs when cells\n",
        "are evaluated out of order, so fixed bugs and edits in previous cells do\n",
        "not get a chance to propagate down. You can do this with the `Run All`\n",
        "command in whichever interface you’re using to edit your notebook.\n",
        "\n",
        "### Julia Basics\n",
        "\n",
        "There are many tutorials and references for Julia, including a [basics\n",
        "overview on the class website](../tutorials/julia-basics.html). Please\n",
        "feel free to reference these as you work through any part of the course.\n",
        "\n",
        "### Formatting Math\n",
        "\n",
        "It will often be helpful to include nicely-formatted mathematics in a\n",
        "notebook. Markdown accomodates this using LaTeX syntax. A LaTeX\n",
        "cheatsheet is available on the class website, and many other guides\n",
        "exist online.\n",
        "\n",
        "Below is an example of a formatted equation: $$x = 5.$$\n",
        "\n",
        "### Looking For Help\n",
        "\n",
        "There is no shame in using Google, or other resources, for help when\n",
        "programming. There are many, many times when you can’t quite get the\n",
        "syntax to work, can’t quite figure out the right package or command to\n",
        "use, or are feeling too lazy or overwhelmed (I’m not judging either of\n",
        "those!) to dig through the documentation. Some good resources include:\n",
        "\n",
        "-   [Stack Overflow](https://stackoverflow.com/) is a treasure trove of\n",
        "    answers;\n",
        "-   The [official Julia forum](https://discourse.julialang.org/) and the\n",
        "    [Julia Subreddit](https://www.reddit.com/r/Julia/) are also very\n",
        "    useful.\n",
        "\n",
        "You are also highly encouraged to post on [Ed\n",
        "Discussion](https://us.edstem.org), though getting a response might be\n",
        "less immediate. Just be mindful that to get good answers, [you have to\n",
        "help people help you](https://stackoverflow.com/help/how-to-ask), and\n",
        "**make sure to give credit to any resources that were helpful**!\n",
        "\n",
        "## Exercises (10 points)\n",
        "\n",
        "Use your understanding of Julia syntax to complete the following\n",
        "(hopefully short) exercises. Convert your completed notebook to a PDF\n",
        "and submit it to the Gradescope Assignment “Lab 1”.\n",
        "\n",
        "**Remember to**:\n",
        "\n",
        "-   Evaluate all of your code cells, in order (using a `Run All`\n",
        "    command). This will make sure all output is visible and that the\n",
        "    code cells were evaluated in the correct order.\n",
        "-   Tag each of the problems when you submit to Gradescope; a 10%\n",
        "    penalty will be deducted if this is not done.\n",
        "\n",
        "### Exercise 1 (3 points)\n",
        "\n",
        "Given two numeric arrays `x` and `y`, write a function to compute their\n",
        "dot product if they have equal length, and return an error if not (this\n",
        "is useful for debugging!). Use the following code as a starting point."
      ],
      "id": "46223f64-3433-4778-84b6-9f1da9197750"
    },
    {
      "cell_type": "code",
      "execution_count": 7,
      "metadata": {},
      "outputs": [],
      "source": [
        "function dot_product(x, y)\n",
        "    if ... # insert test condition for equal lengths\n",
        "        # compute and return dot product\n",
        "    else\n",
        "        throw(DimensionMismatch(\"length of x not equal to length of y\"))\n",
        "    end\n",
        "end"
      ],
      "id": "1be9ef32"
    },
    {
      "cell_type": "markdown",
      "metadata": {},
      "source": [
        "Here are some tests to make sure your code works as intended. Tests like\n",
        "these are useful to make sure everything works as intended. One reason\n",
        "to split your code up into functions is that it makes it straightforward\n",
        "to write tests to make sure each piece of your code works, which makes\n",
        "it easier to identify where errors are occuring."
      ],
      "id": "892386db-6e7b-47a2-bd1c-7894230c5761"
    },
    {
      "cell_type": "code",
      "execution_count": 8,
      "metadata": {},
      "outputs": [],
      "source": [
        "dot_product([1 2 3], [4 5 6])"
      ],
      "id": "9510fa5d"
    },
    {
      "cell_type": "markdown",
      "metadata": {},
      "source": [
        "If you know the value you should get, you can write a more formal test\n",
        "using the `@assert` macro, which is a good way to “automate” checking\n",
        "(since you get an obvious error if the code doesn’t work as desired):"
      ],
      "id": "0611ea1a-7e74-4064-a74f-673360e979e5"
    },
    {
      "cell_type": "code",
      "execution_count": 9,
      "metadata": {},
      "outputs": [],
      "source": [
        "@assert dot_product([1 2 3], [4 5 6]) == 32"
      ],
      "id": "de1e6679"
    },
    {
      "cell_type": "markdown",
      "metadata": {},
      "source": [
        "Let’s also make sure we get an error when the dimensions of the two\n",
        "vectors don’t match:"
      ],
      "id": "0abdc027-01c3-48f6-86ce-31cdae4386e9"
    },
    {
      "cell_type": "code",
      "execution_count": 10,
      "metadata": {},
      "outputs": [],
      "source": [
        "dot_product([1 2 3], [4 5])"
      ],
      "id": "3ff8c638"
    },
    {
      "cell_type": "markdown",
      "metadata": {},
      "source": [
        "### Exercise 2 (3 points)\n",
        "\n",
        "This problem involves implementing Newton’s method for computing square\n",
        "roots; it was shamelessly copied from MIT’s [Introduction to\n",
        "Computational\n",
        "Thinking](https://computationalthinking.mit.edu/Spring21/hw0/). You will\n",
        "use a `while` loop instead of the `for` loop shown above.\n",
        "\n",
        "Implement the following algorithm in a function `newton_sqrt`:\n",
        "\n",
        "Given $x > 0$:\n",
        "\n",
        "1.  Take a guess $a$.\n",
        "2.  Divide $x$ by $a$.  \n",
        "3.  Update $a$ as the average of $x/a$ and $a$.\n",
        "4.  Repeat until $x/a$ is within a tolerance of $\\varepsilon$ from $a$.\n",
        "5.  Return $a \\approx \\sqrt{x}$."
      ],
      "id": "eea49941-4f95-4104-8fa3-da92a991b527"
    },
    {
      "cell_type": "code",
      "execution_count": 11,
      "metadata": {},
      "outputs": [],
      "source": [
        "# insert your code here"
      ],
      "id": "68e6da87"
    },
    {
      "cell_type": "markdown",
      "metadata": {},
      "source": [
        "Use your `newton_sqrt` function to compute $\\sqrt{2}$ to within a\n",
        "tolerance of $\\varepsilon = 0.01$."
      ],
      "id": "239dba4e-47ef-4155-b9cc-d1f98f22d5ec"
    },
    {
      "cell_type": "code",
      "execution_count": 12,
      "metadata": {},
      "outputs": [],
      "source": [
        "# insert your code here"
      ],
      "id": "24281532"
    },
    {
      "cell_type": "markdown",
      "metadata": {},
      "source": [
        "### Exercise 3: Making a Plot (3 points)\n",
        "\n",
        "Write a function to compute the square of an integer `x`. Evaluate this\n",
        "function for integers between $x=-5$ and $x=5$ and make a plot of the\n",
        "squared values (you can find a quick guide to making various types of\n",
        "plots [here](../tutorials/julia-plots.html)). Make sure to label your\n",
        "axes."
<<<<<<< Updated upstream
      ],
      "id": "14d0b102-0322-4e35-a0d8-4da3ec8034d4"
    },
    {
      "cell_type": "code",
      "execution_count": 13,
=======
      ]
    },
    {
      "cell_type": "code",
      "execution_count": 1,
      "id": "540d1c77",
      "metadata": {},
      "outputs": [
        {
          "data": {
            "text/plain": [
              "question3 (generic function with 1 method)"
            ]
          },
          "metadata": {},
          "output_type": "display_data"
        }
      ],
      "source": [
        "using Plots\n",
        "using LaTeXStrings\n",
        "using Measures\n",
        "using Random\n",
        "\n",
        "function question3();\n",
        "    xs = []\n",
        "    ys = []\n",
        "    for i = -5 : 5\n",
        "        x=[i]\n",
        "        xs=[xs; x]\n",
        "        y=[i^2]\n",
        "        ys=[ys; y]\n",
        "    end\n",
        "    plot(xs, ys, label=\"y=x^2\")\n",
        "end\n"
      ]
    },
    {
      "cell_type": "code",
      "execution_count": 3,
      "metadata": {},
      "outputs": [
        {
          "data": {
            "image/png": "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",
            "image/svg+xml": [
              "<?xml version=\"1.0\" encoding=\"utf-8\"?>\n",
              "<svg xmlns=\"http://www.w3.org/2000/svg\" xmlns:xlink=\"http://www.w3.org/1999/xlink\" width=\"600\" height=\"400\" viewBox=\"0 0 2400 1600\">\n",
              "<defs>\n",
              "  <clipPath id=\"clip240\">\n",
              "    <rect x=\"0\" y=\"0\" width=\"2400\" height=\"1600\"/>\n",
              "  </clipPath>\n",
              "</defs>\n",
              "<path clip-path=\"url(#clip240)\" d=\"M0 1600 L2400 1600 L2400 0 L0 0  Z\" fill=\"#ffffff\" fill-rule=\"evenodd\" fill-opacity=\"1\"/>\n",
              "<defs>\n",
              "  <clipPath id=\"clip241\">\n",
              "    <rect x=\"480\" y=\"0\" width=\"1681\" height=\"1600\"/>\n",
              "  </clipPath>\n",
              "</defs>\n",
              "<path clip-path=\"url(#clip240)\" d=\"M140.696 1486.45 L2352.76 1486.45 L2352.76 47.2441 L140.696 47.2441  Z\" fill=\"#ffffff\" fill-rule=\"evenodd\" fill-opacity=\"1\"/>\n",
              "<defs>\n",
              "  <clipPath id=\"clip242\">\n",
              "    <rect x=\"140\" y=\"47\" width=\"2213\" height=\"1440\"/>\n",
              "  </clipPath>\n",
              "</defs>\n",
              "<polyline clip-path=\"url(#clip242)\" style=\"stroke:#000000; stroke-linecap:round; stroke-linejoin:round; stroke-width:2; stroke-opacity:0.1; fill:none\" points=\"411.986,1486.45 411.986,47.2441 \"/>\n",
              "<polyline clip-path=\"url(#clip242)\" style=\"stroke:#000000; stroke-linecap:round; stroke-linejoin:round; stroke-width:2; stroke-opacity:0.1; fill:none\" points=\"829.356,1486.45 829.356,47.2441 \"/>\n",
              "<polyline clip-path=\"url(#clip242)\" style=\"stroke:#000000; stroke-linecap:round; stroke-linejoin:round; stroke-width:2; stroke-opacity:0.1; fill:none\" points=\"1246.73,1486.45 1246.73,47.2441 \"/>\n",
              "<polyline clip-path=\"url(#clip242)\" style=\"stroke:#000000; stroke-linecap:round; stroke-linejoin:round; stroke-width:2; stroke-opacity:0.1; fill:none\" points=\"1664.1,1486.45 1664.1,47.2441 \"/>\n",
              "<polyline clip-path=\"url(#clip242)\" style=\"stroke:#000000; stroke-linecap:round; stroke-linejoin:round; stroke-width:2; stroke-opacity:0.1; fill:none\" points=\"2081.47,1486.45 2081.47,47.2441 \"/>\n",
              "<polyline clip-path=\"url(#clip240)\" style=\"stroke:#000000; stroke-linecap:round; stroke-linejoin:round; stroke-width:4; stroke-opacity:1; fill:none\" points=\"140.696,1486.45 2352.76,1486.45 \"/>\n",
              "<polyline clip-path=\"url(#clip240)\" style=\"stroke:#000000; stroke-linecap:round; stroke-linejoin:round; stroke-width:4; stroke-opacity:1; fill:none\" points=\"411.986,1486.45 411.986,1467.55 \"/>\n",
              "<polyline clip-path=\"url(#clip240)\" style=\"stroke:#000000; stroke-linecap:round; stroke-linejoin:round; stroke-width:4; stroke-opacity:1; fill:none\" points=\"829.356,1486.45 829.356,1467.55 \"/>\n",
              "<polyline clip-path=\"url(#clip240)\" style=\"stroke:#000000; stroke-linecap:round; stroke-linejoin:round; stroke-width:4; stroke-opacity:1; fill:none\" points=\"1246.73,1486.45 1246.73,1467.55 \"/>\n",
              "<polyline clip-path=\"url(#clip240)\" style=\"stroke:#000000; stroke-linecap:round; stroke-linejoin:round; stroke-width:4; stroke-opacity:1; fill:none\" points=\"1664.1,1486.45 1664.1,1467.55 \"/>\n",
              "<polyline clip-path=\"url(#clip240)\" style=\"stroke:#000000; stroke-linecap:round; stroke-linejoin:round; stroke-width:4; stroke-opacity:1; fill:none\" points=\"2081.47,1486.45 2081.47,1467.55 \"/>\n",
              "<path clip-path=\"url(#clip240)\" d=\"M380.887 1532.02 L410.562 1532.02 L410.562 1535.95 L380.887 1535.95 L380.887 1532.02 Z\" fill=\"#000000\" fill-rule=\"nonzero\" fill-opacity=\"1\" /><path clip-path=\"url(#clip240)\" d=\"M433.502 1518.36 L421.697 1536.81 L433.502 1536.81 L433.502 1518.36 M432.275 1514.29 L438.155 1514.29 L438.155 1536.81 L443.085 1536.81 L443.085 1540.7 L438.155 1540.7 L438.155 1548.85 L433.502 1548.85 L433.502 1540.7 L417.9 1540.7 L417.9 1536.19 L432.275 1514.29 Z\" fill=\"#000000\" fill-rule=\"nonzero\" fill-opacity=\"1\" /><path clip-path=\"url(#clip240)\" d=\"M799.298 1532.02 L828.974 1532.02 L828.974 1535.95 L799.298 1535.95 L799.298 1532.02 Z\" fill=\"#000000\" fill-rule=\"nonzero\" fill-opacity=\"1\" /><path clip-path=\"url(#clip240)\" d=\"M843.094 1544.91 L859.414 1544.91 L859.414 1548.85 L837.469 1548.85 L837.469 1544.91 Q840.131 1542.16 844.715 1537.53 Q849.321 1532.88 850.502 1531.53 Q852.747 1529.01 853.627 1527.27 Q854.529 1525.51 854.529 1523.82 Q854.529 1521.07 852.585 1519.33 Q850.664 1517.6 847.562 1517.6 Q845.363 1517.6 842.909 1518.36 Q840.478 1519.13 837.701 1520.68 L837.701 1515.95 Q840.525 1514.82 842.978 1514.24 Q845.432 1513.66 847.469 1513.66 Q852.84 1513.66 856.034 1516.35 Q859.228 1519.03 859.228 1523.52 Q859.228 1525.65 858.418 1527.57 Q857.631 1529.47 855.525 1532.07 Q854.946 1532.74 851.844 1535.95 Q848.742 1539.15 843.094 1544.91 Z\" fill=\"#000000\" fill-rule=\"nonzero\" fill-opacity=\"1\" /><path clip-path=\"url(#clip240)\" d=\"M1246.73 1517.37 Q1243.11 1517.37 1241.29 1520.93 Q1239.48 1524.47 1239.48 1531.6 Q1239.48 1538.71 1241.29 1542.27 Q1243.11 1545.82 1246.73 1545.82 Q1250.36 1545.82 1252.17 1542.27 Q1253.99 1538.71 1253.99 1531.6 Q1253.99 1524.47 1252.17 1520.93 Q1250.36 1517.37 1246.73 1517.37 M1246.73 1513.66 Q1252.54 1513.66 1255.59 1518.27 Q1258.67 1522.85 1258.67 1531.6 Q1258.67 1540.33 1255.59 1544.94 Q1252.54 1549.52 1246.73 1549.52 Q1240.92 1549.52 1237.84 1544.94 Q1234.78 1540.33 1234.78 1531.6 Q1234.78 1522.85 1237.84 1518.27 Q1240.92 1513.66 1246.73 1513.66 Z\" fill=\"#000000\" fill-rule=\"nonzero\" fill-opacity=\"1\" /><path clip-path=\"url(#clip240)\" d=\"M1658.75 1544.91 L1675.07 1544.91 L1675.07 1548.85 L1653.12 1548.85 L1653.12 1544.91 Q1655.79 1542.16 1660.37 1537.53 Q1664.98 1532.88 1666.16 1531.53 Q1668.4 1529.01 1669.28 1527.27 Q1670.18 1525.51 1670.18 1523.82 Q1670.18 1521.07 1668.24 1519.33 Q1666.32 1517.6 1663.22 1517.6 Q1661.02 1517.6 1658.56 1518.36 Q1656.13 1519.13 1653.35 1520.68 L1653.35 1515.95 Q1656.18 1514.82 1658.63 1514.24 Q1661.09 1513.66 1663.12 1513.66 Q1668.49 1513.66 1671.69 1516.35 Q1674.88 1519.03 1674.88 1523.52 Q1674.88 1525.65 1674.07 1527.57 Q1673.29 1529.47 1671.18 1532.07 Q1670.6 1532.74 1667.5 1535.95 Q1664.4 1539.15 1658.75 1544.91 Z\" fill=\"#000000\" fill-rule=\"nonzero\" fill-opacity=\"1\" /><path clip-path=\"url(#clip240)\" d=\"M2084.47 1518.36 L2072.67 1536.81 L2084.47 1536.81 L2084.47 1518.36 M2083.25 1514.29 L2089.13 1514.29 L2089.13 1536.81 L2094.06 1536.81 L2094.06 1540.7 L2089.13 1540.7 L2089.13 1548.85 L2084.47 1548.85 L2084.47 1540.7 L2068.87 1540.7 L2068.87 1536.19 L2083.25 1514.29 Z\" fill=\"#000000\" fill-rule=\"nonzero\" fill-opacity=\"1\" /><polyline clip-path=\"url(#clip242)\" style=\"stroke:#000000; stroke-linecap:round; stroke-linejoin:round; stroke-width:2; stroke-opacity:0.1; fill:none\" points=\"140.696,1445.72 2352.76,1445.72 \"/>\n",
              "<polyline clip-path=\"url(#clip242)\" style=\"stroke:#000000; stroke-linecap:round; stroke-linejoin:round; stroke-width:2; stroke-opacity:0.1; fill:none\" points=\"140.696,1174.17 2352.76,1174.17 \"/>\n",
              "<polyline clip-path=\"url(#clip242)\" style=\"stroke:#000000; stroke-linecap:round; stroke-linejoin:round; stroke-width:2; stroke-opacity:0.1; fill:none\" points=\"140.696,902.62 2352.76,902.62 \"/>\n",
              "<polyline clip-path=\"url(#clip242)\" style=\"stroke:#000000; stroke-linecap:round; stroke-linejoin:round; stroke-width:2; stroke-opacity:0.1; fill:none\" points=\"140.696,631.072 2352.76,631.072 \"/>\n",
              "<polyline clip-path=\"url(#clip242)\" style=\"stroke:#000000; stroke-linecap:round; stroke-linejoin:round; stroke-width:2; stroke-opacity:0.1; fill:none\" points=\"140.696,359.524 2352.76,359.524 \"/>\n",
              "<polyline clip-path=\"url(#clip242)\" style=\"stroke:#000000; stroke-linecap:round; stroke-linejoin:round; stroke-width:2; stroke-opacity:0.1; fill:none\" points=\"140.696,87.9763 2352.76,87.9763 \"/>\n",
              "<polyline clip-path=\"url(#clip240)\" style=\"stroke:#000000; stroke-linecap:round; stroke-linejoin:round; stroke-width:4; stroke-opacity:1; fill:none\" points=\"140.696,1486.45 140.696,47.2441 \"/>\n",
              "<polyline clip-path=\"url(#clip240)\" style=\"stroke:#000000; stroke-linecap:round; stroke-linejoin:round; stroke-width:4; stroke-opacity:1; fill:none\" points=\"140.696,1445.72 159.593,1445.72 \"/>\n",
              "<polyline clip-path=\"url(#clip240)\" style=\"stroke:#000000; stroke-linecap:round; stroke-linejoin:round; stroke-width:4; stroke-opacity:1; fill:none\" points=\"140.696,1174.17 159.593,1174.17 \"/>\n",
              "<polyline clip-path=\"url(#clip240)\" style=\"stroke:#000000; stroke-linecap:round; stroke-linejoin:round; stroke-width:4; stroke-opacity:1; fill:none\" points=\"140.696,902.62 159.593,902.62 \"/>\n",
              "<polyline clip-path=\"url(#clip240)\" style=\"stroke:#000000; stroke-linecap:round; stroke-linejoin:round; stroke-width:4; stroke-opacity:1; fill:none\" points=\"140.696,631.072 159.593,631.072 \"/>\n",
              "<polyline clip-path=\"url(#clip240)\" style=\"stroke:#000000; stroke-linecap:round; stroke-linejoin:round; stroke-width:4; stroke-opacity:1; fill:none\" points=\"140.696,359.524 159.593,359.524 \"/>\n",
              "<polyline clip-path=\"url(#clip240)\" style=\"stroke:#000000; stroke-linecap:round; stroke-linejoin:round; stroke-width:4; stroke-opacity:1; fill:none\" points=\"140.696,87.9763 159.593,87.9763 \"/>\n",
              "<path clip-path=\"url(#clip240)\" d=\"M92.7512 1431.51 Q89.1401 1431.51 87.3114 1435.08 Q85.5058 1438.62 85.5058 1445.75 Q85.5058 1452.86 87.3114 1456.42 Q89.1401 1459.96 92.7512 1459.96 Q96.3854 1459.96 98.1909 1456.42 Q100.02 1452.86 100.02 1445.75 Q100.02 1438.62 98.1909 1435.08 Q96.3854 1431.51 92.7512 1431.51 M92.7512 1427.81 Q98.5613 1427.81 101.617 1432.42 Q104.696 1437 104.696 1445.75 Q104.696 1454.48 101.617 1459.08 Q98.5613 1463.67 92.7512 1463.67 Q86.941 1463.67 83.8623 1459.08 Q80.8068 1454.48 80.8068 1445.75 Q80.8068 1437 83.8623 1432.42 Q86.941 1427.81 92.7512 1427.81 Z\" fill=\"#000000\" fill-rule=\"nonzero\" fill-opacity=\"1\" /><path clip-path=\"url(#clip240)\" d=\"M83.7929 1156.89 L102.149 1156.89 L102.149 1160.82 L88.0753 1160.82 L88.0753 1169.3 Q89.0938 1168.95 90.1123 1168.79 Q91.1308 1168.6 92.1493 1168.6 Q97.9363 1168.6 101.316 1171.77 Q104.696 1174.94 104.696 1180.36 Q104.696 1185.94 101.223 1189.04 Q97.7511 1192.12 91.4317 1192.12 Q89.2558 1192.12 86.9873 1191.75 Q84.7419 1191.38 82.3346 1190.64 L82.3346 1185.94 Q84.4179 1187.07 86.6401 1187.63 Q88.8623 1188.18 91.3391 1188.18 Q95.3437 1188.18 97.6817 1186.08 Q100.02 1183.97 100.02 1180.36 Q100.02 1176.75 97.6817 1174.64 Q95.3437 1172.54 91.3391 1172.54 Q89.4641 1172.54 87.5892 1172.95 Q85.7373 1173.37 83.7929 1174.25 L83.7929 1156.89 Z\" fill=\"#000000\" fill-rule=\"nonzero\" fill-opacity=\"1\" /><path clip-path=\"url(#clip240)\" d=\"M53.3995 915.965 L61.0384 915.965 L61.0384 889.599 L52.7282 891.266 L52.7282 887.007 L60.9921 885.34 L65.668 885.34 L65.668 915.965 L73.3068 915.965 L73.3068 919.9 L53.3995 919.9 L53.3995 915.965 Z\" fill=\"#000000\" fill-rule=\"nonzero\" fill-opacity=\"1\" /><path clip-path=\"url(#clip240)\" d=\"M92.7512 888.419 Q89.1401 888.419 87.3114 891.983 Q85.5058 895.525 85.5058 902.655 Q85.5058 909.761 87.3114 913.326 Q89.1401 916.868 92.7512 916.868 Q96.3854 916.868 98.1909 913.326 Q100.02 909.761 100.02 902.655 Q100.02 895.525 98.1909 891.983 Q96.3854 888.419 92.7512 888.419 M92.7512 884.715 Q98.5613 884.715 101.617 889.321 Q104.696 893.905 104.696 902.655 Q104.696 911.381 101.617 915.988 Q98.5613 920.571 92.7512 920.571 Q86.941 920.571 83.8623 915.988 Q80.8068 911.381 80.8068 902.655 Q80.8068 893.905 83.8623 889.321 Q86.941 884.715 92.7512 884.715 Z\" fill=\"#000000\" fill-rule=\"nonzero\" fill-opacity=\"1\" /><path clip-path=\"url(#clip240)\" d=\"M54.3949 644.417 L62.0337 644.417 L62.0337 618.051 L53.7236 619.718 L53.7236 615.459 L61.9874 613.792 L66.6633 613.792 L66.6633 644.417 L74.3022 644.417 L74.3022 648.352 L54.3949 648.352 L54.3949 644.417 Z\" fill=\"#000000\" fill-rule=\"nonzero\" fill-opacity=\"1\" /><path clip-path=\"url(#clip240)\" d=\"M83.7929 613.792 L102.149 613.792 L102.149 617.727 L88.0753 617.727 L88.0753 626.199 Q89.0938 625.852 90.1123 625.69 Q91.1308 625.505 92.1493 625.505 Q97.9363 625.505 101.316 628.676 Q104.696 631.848 104.696 637.264 Q104.696 642.843 101.223 645.945 Q97.7511 649.023 91.4317 649.023 Q89.2558 649.023 86.9873 648.653 Q84.7419 648.283 82.3346 647.542 L82.3346 642.843 Q84.4179 643.977 86.6401 644.533 Q88.8623 645.088 91.3391 645.088 Q95.3437 645.088 97.6817 642.982 Q100.02 640.875 100.02 637.264 Q100.02 633.653 97.6817 631.547 Q95.3437 629.44 91.3391 629.44 Q89.4641 629.44 87.5892 629.857 Q85.7373 630.273 83.7929 631.153 L83.7929 613.792 Z\" fill=\"#000000\" fill-rule=\"nonzero\" fill-opacity=\"1\" /><path clip-path=\"url(#clip240)\" d=\"M56.6171 372.869 L72.9365 372.869 L72.9365 376.804 L50.9921 376.804 L50.9921 372.869 Q53.6541 370.114 58.2375 365.485 Q62.8439 360.832 64.0245 359.489 Q66.2698 356.966 67.1494 355.23 Q68.0522 353.471 68.0522 351.781 Q68.0522 349.027 66.1078 347.29 Q64.1865 345.554 61.0847 345.554 Q58.8856 345.554 56.4319 346.318 Q54.0014 347.082 51.2236 348.633 L51.2236 343.911 Q54.0477 342.777 56.5014 342.198 Q58.955 341.619 60.9921 341.619 Q66.3624 341.619 69.5568 344.304 Q72.7513 346.99 72.7513 351.48 Q72.7513 353.61 71.9411 355.531 Q71.1541 357.429 69.0476 360.022 Q68.4689 360.693 65.367 363.911 Q62.2652 367.105 56.6171 372.869 Z\" fill=\"#000000\" fill-rule=\"nonzero\" fill-opacity=\"1\" /><path clip-path=\"url(#clip240)\" d=\"M92.7512 345.323 Q89.1401 345.323 87.3114 348.888 Q85.5058 352.429 85.5058 359.559 Q85.5058 366.665 87.3114 370.23 Q89.1401 373.772 92.7512 373.772 Q96.3854 373.772 98.1909 370.23 Q100.02 366.665 100.02 359.559 Q100.02 352.429 98.1909 348.888 Q96.3854 345.323 92.7512 345.323 M92.7512 341.619 Q98.5613 341.619 101.617 346.226 Q104.696 350.809 104.696 359.559 Q104.696 368.286 101.617 372.892 Q98.5613 377.475 92.7512 377.475 Q86.941 377.475 83.8623 372.892 Q80.8068 368.286 80.8068 359.559 Q80.8068 350.809 83.8623 346.226 Q86.941 341.619 92.7512 341.619 Z\" fill=\"#000000\" fill-rule=\"nonzero\" fill-opacity=\"1\" /><path clip-path=\"url(#clip240)\" d=\"M57.6125 101.321 L73.9318 101.321 L73.9318 105.256 L51.9875 105.256 L51.9875 101.321 Q54.6495 98.5665 59.2328 93.9369 Q63.8393 89.2841 65.0198 87.9416 Q67.2652 85.4184 68.1448 83.6823 Q69.0476 81.9231 69.0476 80.2333 Q69.0476 77.4786 67.1032 75.7425 Q65.1819 74.0064 62.08 74.0064 Q59.881 74.0064 57.4273 74.7703 Q54.9967 75.5342 52.219 77.0851 L52.219 72.3629 Q55.043 71.2287 57.4967 70.65 Q59.9504 70.0713 61.9874 70.0713 Q67.3578 70.0713 70.5522 72.7565 Q73.7466 75.4416 73.7466 79.9323 Q73.7466 82.062 72.9365 83.9832 Q72.1494 85.8814 70.0429 88.474 Q69.4642 89.1453 66.3624 92.3628 Q63.2606 95.5573 57.6125 101.321 Z\" fill=\"#000000\" fill-rule=\"nonzero\" fill-opacity=\"1\" /><path clip-path=\"url(#clip240)\" d=\"M83.7929 70.6963 L102.149 70.6963 L102.149 74.6314 L88.0753 74.6314 L88.0753 83.1036 Q89.0938 82.7564 90.1123 82.5944 Q91.1308 82.4092 92.1493 82.4092 Q97.9363 82.4092 101.316 85.5805 Q104.696 88.7517 104.696 94.1684 Q104.696 99.747 101.223 102.849 Q97.7511 105.928 91.4317 105.928 Q89.2558 105.928 86.9873 105.557 Q84.7419 105.187 82.3346 104.446 L82.3346 99.747 Q84.4179 100.881 86.6401 101.437 Q88.8623 101.992 91.3391 101.992 Q95.3437 101.992 97.6817 99.8859 Q100.02 97.7795 100.02 94.1684 Q100.02 90.5573 97.6817 88.4508 Q95.3437 86.3443 91.3391 86.3443 Q89.4641 86.3443 87.5892 86.761 Q85.7373 87.1777 83.7929 88.0573 L83.7929 70.6963 Z\" fill=\"#000000\" fill-rule=\"nonzero\" fill-opacity=\"1\" /><polyline clip-path=\"url(#clip242)\" style=\"stroke:#009af9; stroke-linecap:round; stroke-linejoin:round; stroke-width:4; stroke-opacity:1; fill:none\" points=\"203.301,87.9763 411.986,576.762 620.671,956.93 829.356,1228.48 1038.04,1391.41 1246.73,1445.72 1455.41,1391.41 1664.1,1228.48 1872.78,956.93 2081.47,576.762 2290.15,87.9763 \"/>\n",
              "<path clip-path=\"url(#clip240)\" d=\"M1898.26 1438.47 L2279.02 1438.47 L2279.02 1334.79 L1898.26 1334.79  Z\" fill=\"#ffffff\" fill-rule=\"evenodd\" fill-opacity=\"1\"/>\n",
              "<polyline clip-path=\"url(#clip240)\" style=\"stroke:#000000; stroke-linecap:round; stroke-linejoin:round; stroke-width:4; stroke-opacity:1; fill:none\" points=\"1898.26,1438.47 2279.02,1438.47 2279.02,1334.79 1898.26,1334.79 1898.26,1438.47 \"/>\n",
              "<polyline clip-path=\"url(#clip240)\" style=\"stroke:#009af9; stroke-linecap:round; stroke-linejoin:round; stroke-width:4; stroke-opacity:1; fill:none\" points=\"1922.83,1386.63 2070.3,1386.63 \"/>\n",
              "<path clip-path=\"url(#clip240)\" d=\"M2108.73 1406.32 Q2106.92 1410.95 2105.21 1412.36 Q2103.49 1413.78 2100.62 1413.78 L2097.22 1413.78 L2097.22 1410.21 L2099.72 1410.21 Q2101.48 1410.21 2102.45 1409.38 Q2103.42 1408.54 2104.6 1405.44 L2105.37 1403.5 L2094.88 1377.99 L2099.4 1377.99 L2107.5 1398.27 L2115.6 1377.99 L2120.11 1377.99 L2108.73 1406.32 Z\" fill=\"#000000\" fill-rule=\"nonzero\" fill-opacity=\"1\" /><path clip-path=\"url(#clip240)\" d=\"M2126.55 1382.39 L2156.23 1382.39 L2156.23 1386.28 L2126.55 1386.28 L2126.55 1382.39 M2126.55 1391.83 L2156.23 1391.83 L2156.23 1395.77 L2126.55 1395.77 L2126.55 1391.83 Z\" fill=\"#000000\" fill-rule=\"nonzero\" fill-opacity=\"1\" /><path clip-path=\"url(#clip240)\" d=\"M2187.27 1377.99 L2177.89 1390.6 L2187.75 1403.91 L2182.73 1403.91 L2175.18 1393.73 L2167.64 1403.91 L2162.61 1403.91 L2172.68 1390.35 L2163.47 1377.99 L2168.49 1377.99 L2175.37 1387.22 L2182.24 1377.99 L2187.27 1377.99 Z\" fill=\"#000000\" fill-rule=\"nonzero\" fill-opacity=\"1\" /><path clip-path=\"url(#clip240)\" d=\"M2211.43 1369.35 L2224 1382.25 L2219.35 1382.25 L2209.16 1373.1 L2198.98 1382.25 L2194.33 1382.25 L2206.9 1369.35 L2211.43 1369.35 Z\" fill=\"#000000\" fill-rule=\"nonzero\" fill-opacity=\"1\" /><path clip-path=\"url(#clip240)\" d=\"M2238.12 1399.98 L2254.44 1399.98 L2254.44 1403.91 L2232.5 1403.91 L2232.5 1399.98 Q2235.16 1397.22 2239.74 1392.6 Q2244.35 1387.94 2245.53 1386.6 Q2247.78 1384.08 2248.66 1382.34 Q2249.56 1380.58 2249.56 1378.89 Q2249.56 1376.14 2247.61 1374.4 Q2245.69 1372.66 2242.59 1372.66 Q2240.39 1372.66 2237.94 1373.43 Q2235.51 1374.19 2232.73 1375.74 L2232.73 1371.02 Q2235.55 1369.89 2238.01 1369.31 Q2240.46 1368.73 2242.5 1368.73 Q2247.87 1368.73 2251.06 1371.41 Q2254.26 1374.1 2254.26 1378.59 Q2254.26 1380.72 2253.45 1382.64 Q2252.66 1384.54 2250.55 1387.13 Q2249.97 1387.8 2246.87 1391.02 Q2243.77 1394.22 2238.12 1399.98 Z\" fill=\"#000000\" fill-rule=\"nonzero\" fill-opacity=\"1\" /></svg>\n"
            ],
            "text/html": [
              "<?xml version=\"1.0\" encoding=\"utf-8\"?>\n",
              "<svg xmlns=\"http://www.w3.org/2000/svg\" xmlns:xlink=\"http://www.w3.org/1999/xlink\" width=\"600\" height=\"400\" viewBox=\"0 0 2400 1600\">\n",
              "<defs>\n",
              "  <clipPath id=\"clip290\">\n",
              "    <rect x=\"0\" y=\"0\" width=\"2400\" height=\"1600\"/>\n",
              "  </clipPath>\n",
              "</defs>\n",
              "<path clip-path=\"url(#clip290)\" d=\"M0 1600 L2400 1600 L2400 0 L0 0  Z\" fill=\"#ffffff\" fill-rule=\"evenodd\" fill-opacity=\"1\"/>\n",
              "<defs>\n",
              "  <clipPath id=\"clip291\">\n",
              "    <rect x=\"480\" y=\"0\" width=\"1681\" height=\"1600\"/>\n",
              "  </clipPath>\n",
              "</defs>\n",
              "<path clip-path=\"url(#clip290)\" d=\"M140.696 1486.45 L2352.76 1486.45 L2352.76 47.2441 L140.696 47.2441  Z\" fill=\"#ffffff\" fill-rule=\"evenodd\" fill-opacity=\"1\"/>\n",
              "<defs>\n",
              "  <clipPath id=\"clip292\">\n",
              "    <rect x=\"140\" y=\"47\" width=\"2213\" height=\"1440\"/>\n",
              "  </clipPath>\n",
              "</defs>\n",
              "<polyline clip-path=\"url(#clip292)\" style=\"stroke:#000000; stroke-linecap:round; stroke-linejoin:round; stroke-width:2; stroke-opacity:0.1; fill:none\" points=\"411.986,1486.45 411.986,47.2441 \"/>\n",
              "<polyline clip-path=\"url(#clip292)\" style=\"stroke:#000000; stroke-linecap:round; stroke-linejoin:round; stroke-width:2; stroke-opacity:0.1; fill:none\" points=\"829.356,1486.45 829.356,47.2441 \"/>\n",
              "<polyline clip-path=\"url(#clip292)\" style=\"stroke:#000000; stroke-linecap:round; stroke-linejoin:round; stroke-width:2; stroke-opacity:0.1; fill:none\" points=\"1246.73,1486.45 1246.73,47.2441 \"/>\n",
              "<polyline clip-path=\"url(#clip292)\" style=\"stroke:#000000; stroke-linecap:round; stroke-linejoin:round; stroke-width:2; stroke-opacity:0.1; fill:none\" points=\"1664.1,1486.45 1664.1,47.2441 \"/>\n",
              "<polyline clip-path=\"url(#clip292)\" style=\"stroke:#000000; stroke-linecap:round; stroke-linejoin:round; stroke-width:2; stroke-opacity:0.1; fill:none\" points=\"2081.47,1486.45 2081.47,47.2441 \"/>\n",
              "<polyline clip-path=\"url(#clip290)\" style=\"stroke:#000000; stroke-linecap:round; stroke-linejoin:round; stroke-width:4; stroke-opacity:1; fill:none\" points=\"140.696,1486.45 2352.76,1486.45 \"/>\n",
              "<polyline clip-path=\"url(#clip290)\" style=\"stroke:#000000; stroke-linecap:round; stroke-linejoin:round; stroke-width:4; stroke-opacity:1; fill:none\" points=\"411.986,1486.45 411.986,1467.55 \"/>\n",
              "<polyline clip-path=\"url(#clip290)\" style=\"stroke:#000000; stroke-linecap:round; stroke-linejoin:round; stroke-width:4; stroke-opacity:1; fill:none\" points=\"829.356,1486.45 829.356,1467.55 \"/>\n",
              "<polyline clip-path=\"url(#clip290)\" style=\"stroke:#000000; stroke-linecap:round; stroke-linejoin:round; stroke-width:4; stroke-opacity:1; fill:none\" points=\"1246.73,1486.45 1246.73,1467.55 \"/>\n",
              "<polyline clip-path=\"url(#clip290)\" style=\"stroke:#000000; stroke-linecap:round; stroke-linejoin:round; stroke-width:4; stroke-opacity:1; fill:none\" points=\"1664.1,1486.45 1664.1,1467.55 \"/>\n",
              "<polyline clip-path=\"url(#clip290)\" style=\"stroke:#000000; stroke-linecap:round; stroke-linejoin:round; stroke-width:4; stroke-opacity:1; fill:none\" points=\"2081.47,1486.45 2081.47,1467.55 \"/>\n",
              "<path clip-path=\"url(#clip290)\" d=\"M380.887 1532.02 L410.562 1532.02 L410.562 1535.95 L380.887 1535.95 L380.887 1532.02 Z\" fill=\"#000000\" fill-rule=\"nonzero\" fill-opacity=\"1\" /><path clip-path=\"url(#clip290)\" d=\"M433.502 1518.36 L421.697 1536.81 L433.502 1536.81 L433.502 1518.36 M432.275 1514.29 L438.155 1514.29 L438.155 1536.81 L443.085 1536.81 L443.085 1540.7 L438.155 1540.7 L438.155 1548.85 L433.502 1548.85 L433.502 1540.7 L417.9 1540.7 L417.9 1536.19 L432.275 1514.29 Z\" fill=\"#000000\" fill-rule=\"nonzero\" fill-opacity=\"1\" /><path clip-path=\"url(#clip290)\" d=\"M799.298 1532.02 L828.974 1532.02 L828.974 1535.95 L799.298 1535.95 L799.298 1532.02 Z\" fill=\"#000000\" fill-rule=\"nonzero\" fill-opacity=\"1\" /><path clip-path=\"url(#clip290)\" d=\"M843.094 1544.91 L859.414 1544.91 L859.414 1548.85 L837.469 1548.85 L837.469 1544.91 Q840.131 1542.16 844.715 1537.53 Q849.321 1532.88 850.502 1531.53 Q852.747 1529.01 853.627 1527.27 Q854.529 1525.51 854.529 1523.82 Q854.529 1521.07 852.585 1519.33 Q850.664 1517.6 847.562 1517.6 Q845.363 1517.6 842.909 1518.36 Q840.478 1519.13 837.701 1520.68 L837.701 1515.95 Q840.525 1514.82 842.978 1514.24 Q845.432 1513.66 847.469 1513.66 Q852.84 1513.66 856.034 1516.35 Q859.228 1519.03 859.228 1523.52 Q859.228 1525.65 858.418 1527.57 Q857.631 1529.47 855.525 1532.07 Q854.946 1532.74 851.844 1535.95 Q848.742 1539.15 843.094 1544.91 Z\" fill=\"#000000\" fill-rule=\"nonzero\" fill-opacity=\"1\" /><path clip-path=\"url(#clip290)\" d=\"M1246.73 1517.37 Q1243.11 1517.37 1241.29 1520.93 Q1239.48 1524.47 1239.48 1531.6 Q1239.48 1538.71 1241.29 1542.27 Q1243.11 1545.82 1246.73 1545.82 Q1250.36 1545.82 1252.17 1542.27 Q1253.99 1538.71 1253.99 1531.6 Q1253.99 1524.47 1252.17 1520.93 Q1250.36 1517.37 1246.73 1517.37 M1246.73 1513.66 Q1252.54 1513.66 1255.59 1518.27 Q1258.67 1522.85 1258.67 1531.6 Q1258.67 1540.33 1255.59 1544.94 Q1252.54 1549.52 1246.73 1549.52 Q1240.92 1549.52 1237.84 1544.94 Q1234.78 1540.33 1234.78 1531.6 Q1234.78 1522.85 1237.84 1518.27 Q1240.92 1513.66 1246.73 1513.66 Z\" fill=\"#000000\" fill-rule=\"nonzero\" fill-opacity=\"1\" /><path clip-path=\"url(#clip290)\" d=\"M1658.75 1544.91 L1675.07 1544.91 L1675.07 1548.85 L1653.12 1548.85 L1653.12 1544.91 Q1655.79 1542.16 1660.37 1537.53 Q1664.98 1532.88 1666.16 1531.53 Q1668.4 1529.01 1669.28 1527.27 Q1670.18 1525.51 1670.18 1523.82 Q1670.18 1521.07 1668.24 1519.33 Q1666.32 1517.6 1663.22 1517.6 Q1661.02 1517.6 1658.56 1518.36 Q1656.13 1519.13 1653.35 1520.68 L1653.35 1515.95 Q1656.18 1514.82 1658.63 1514.24 Q1661.09 1513.66 1663.12 1513.66 Q1668.49 1513.66 1671.69 1516.35 Q1674.88 1519.03 1674.88 1523.52 Q1674.88 1525.65 1674.07 1527.57 Q1673.29 1529.47 1671.18 1532.07 Q1670.6 1532.74 1667.5 1535.95 Q1664.4 1539.15 1658.75 1544.91 Z\" fill=\"#000000\" fill-rule=\"nonzero\" fill-opacity=\"1\" /><path clip-path=\"url(#clip290)\" d=\"M2084.47 1518.36 L2072.67 1536.81 L2084.47 1536.81 L2084.47 1518.36 M2083.25 1514.29 L2089.13 1514.29 L2089.13 1536.81 L2094.06 1536.81 L2094.06 1540.7 L2089.13 1540.7 L2089.13 1548.85 L2084.47 1548.85 L2084.47 1540.7 L2068.87 1540.7 L2068.87 1536.19 L2083.25 1514.29 Z\" fill=\"#000000\" fill-rule=\"nonzero\" fill-opacity=\"1\" /><polyline clip-path=\"url(#clip292)\" style=\"stroke:#000000; stroke-linecap:round; stroke-linejoin:round; stroke-width:2; stroke-opacity:0.1; fill:none\" points=\"140.696,1445.72 2352.76,1445.72 \"/>\n",
              "<polyline clip-path=\"url(#clip292)\" style=\"stroke:#000000; stroke-linecap:round; stroke-linejoin:round; stroke-width:2; stroke-opacity:0.1; fill:none\" points=\"140.696,1174.17 2352.76,1174.17 \"/>\n",
              "<polyline clip-path=\"url(#clip292)\" style=\"stroke:#000000; stroke-linecap:round; stroke-linejoin:round; stroke-width:2; stroke-opacity:0.1; fill:none\" points=\"140.696,902.62 2352.76,902.62 \"/>\n",
              "<polyline clip-path=\"url(#clip292)\" style=\"stroke:#000000; stroke-linecap:round; stroke-linejoin:round; stroke-width:2; stroke-opacity:0.1; fill:none\" points=\"140.696,631.072 2352.76,631.072 \"/>\n",
              "<polyline clip-path=\"url(#clip292)\" style=\"stroke:#000000; stroke-linecap:round; stroke-linejoin:round; stroke-width:2; stroke-opacity:0.1; fill:none\" points=\"140.696,359.524 2352.76,359.524 \"/>\n",
              "<polyline clip-path=\"url(#clip292)\" style=\"stroke:#000000; stroke-linecap:round; stroke-linejoin:round; stroke-width:2; stroke-opacity:0.1; fill:none\" points=\"140.696,87.9763 2352.76,87.9763 \"/>\n",
              "<polyline clip-path=\"url(#clip290)\" style=\"stroke:#000000; stroke-linecap:round; stroke-linejoin:round; stroke-width:4; stroke-opacity:1; fill:none\" points=\"140.696,1486.45 140.696,47.2441 \"/>\n",
              "<polyline clip-path=\"url(#clip290)\" style=\"stroke:#000000; stroke-linecap:round; stroke-linejoin:round; stroke-width:4; stroke-opacity:1; fill:none\" points=\"140.696,1445.72 159.593,1445.72 \"/>\n",
              "<polyline clip-path=\"url(#clip290)\" style=\"stroke:#000000; stroke-linecap:round; stroke-linejoin:round; stroke-width:4; stroke-opacity:1; fill:none\" points=\"140.696,1174.17 159.593,1174.17 \"/>\n",
              "<polyline clip-path=\"url(#clip290)\" style=\"stroke:#000000; stroke-linecap:round; stroke-linejoin:round; stroke-width:4; stroke-opacity:1; fill:none\" points=\"140.696,902.62 159.593,902.62 \"/>\n",
              "<polyline clip-path=\"url(#clip290)\" style=\"stroke:#000000; stroke-linecap:round; stroke-linejoin:round; stroke-width:4; stroke-opacity:1; fill:none\" points=\"140.696,631.072 159.593,631.072 \"/>\n",
              "<polyline clip-path=\"url(#clip290)\" style=\"stroke:#000000; stroke-linecap:round; stroke-linejoin:round; stroke-width:4; stroke-opacity:1; fill:none\" points=\"140.696,359.524 159.593,359.524 \"/>\n",
              "<polyline clip-path=\"url(#clip290)\" style=\"stroke:#000000; stroke-linecap:round; stroke-linejoin:round; stroke-width:4; stroke-opacity:1; fill:none\" points=\"140.696,87.9763 159.593,87.9763 \"/>\n",
              "<path clip-path=\"url(#clip290)\" d=\"M92.7512 1431.51 Q89.1401 1431.51 87.3114 1435.08 Q85.5058 1438.62 85.5058 1445.75 Q85.5058 1452.86 87.3114 1456.42 Q89.1401 1459.96 92.7512 1459.96 Q96.3854 1459.96 98.1909 1456.42 Q100.02 1452.86 100.02 1445.75 Q100.02 1438.62 98.1909 1435.08 Q96.3854 1431.51 92.7512 1431.51 M92.7512 1427.81 Q98.5613 1427.81 101.617 1432.42 Q104.696 1437 104.696 1445.75 Q104.696 1454.48 101.617 1459.08 Q98.5613 1463.67 92.7512 1463.67 Q86.941 1463.67 83.8623 1459.08 Q80.8068 1454.48 80.8068 1445.75 Q80.8068 1437 83.8623 1432.42 Q86.941 1427.81 92.7512 1427.81 Z\" fill=\"#000000\" fill-rule=\"nonzero\" fill-opacity=\"1\" /><path clip-path=\"url(#clip290)\" d=\"M83.7929 1156.89 L102.149 1156.89 L102.149 1160.82 L88.0753 1160.82 L88.0753 1169.3 Q89.0938 1168.95 90.1123 1168.79 Q91.1308 1168.6 92.1493 1168.6 Q97.9363 1168.6 101.316 1171.77 Q104.696 1174.94 104.696 1180.36 Q104.696 1185.94 101.223 1189.04 Q97.7511 1192.12 91.4317 1192.12 Q89.2558 1192.12 86.9873 1191.75 Q84.7419 1191.38 82.3346 1190.64 L82.3346 1185.94 Q84.4179 1187.07 86.6401 1187.63 Q88.8623 1188.18 91.3391 1188.18 Q95.3437 1188.18 97.6817 1186.08 Q100.02 1183.97 100.02 1180.36 Q100.02 1176.75 97.6817 1174.64 Q95.3437 1172.54 91.3391 1172.54 Q89.4641 1172.54 87.5892 1172.95 Q85.7373 1173.37 83.7929 1174.25 L83.7929 1156.89 Z\" fill=\"#000000\" fill-rule=\"nonzero\" fill-opacity=\"1\" /><path clip-path=\"url(#clip290)\" d=\"M53.3995 915.965 L61.0384 915.965 L61.0384 889.599 L52.7282 891.266 L52.7282 887.007 L60.9921 885.34 L65.668 885.34 L65.668 915.965 L73.3068 915.965 L73.3068 919.9 L53.3995 919.9 L53.3995 915.965 Z\" fill=\"#000000\" fill-rule=\"nonzero\" fill-opacity=\"1\" /><path clip-path=\"url(#clip290)\" d=\"M92.7512 888.419 Q89.1401 888.419 87.3114 891.983 Q85.5058 895.525 85.5058 902.655 Q85.5058 909.761 87.3114 913.326 Q89.1401 916.868 92.7512 916.868 Q96.3854 916.868 98.1909 913.326 Q100.02 909.761 100.02 902.655 Q100.02 895.525 98.1909 891.983 Q96.3854 888.419 92.7512 888.419 M92.7512 884.715 Q98.5613 884.715 101.617 889.321 Q104.696 893.905 104.696 902.655 Q104.696 911.381 101.617 915.988 Q98.5613 920.571 92.7512 920.571 Q86.941 920.571 83.8623 915.988 Q80.8068 911.381 80.8068 902.655 Q80.8068 893.905 83.8623 889.321 Q86.941 884.715 92.7512 884.715 Z\" fill=\"#000000\" fill-rule=\"nonzero\" fill-opacity=\"1\" /><path clip-path=\"url(#clip290)\" d=\"M54.3949 644.417 L62.0337 644.417 L62.0337 618.051 L53.7236 619.718 L53.7236 615.459 L61.9874 613.792 L66.6633 613.792 L66.6633 644.417 L74.3022 644.417 L74.3022 648.352 L54.3949 648.352 L54.3949 644.417 Z\" fill=\"#000000\" fill-rule=\"nonzero\" fill-opacity=\"1\" /><path clip-path=\"url(#clip290)\" d=\"M83.7929 613.792 L102.149 613.792 L102.149 617.727 L88.0753 617.727 L88.0753 626.199 Q89.0938 625.852 90.1123 625.69 Q91.1308 625.505 92.1493 625.505 Q97.9363 625.505 101.316 628.676 Q104.696 631.848 104.696 637.264 Q104.696 642.843 101.223 645.945 Q97.7511 649.023 91.4317 649.023 Q89.2558 649.023 86.9873 648.653 Q84.7419 648.283 82.3346 647.542 L82.3346 642.843 Q84.4179 643.977 86.6401 644.533 Q88.8623 645.088 91.3391 645.088 Q95.3437 645.088 97.6817 642.982 Q100.02 640.875 100.02 637.264 Q100.02 633.653 97.6817 631.547 Q95.3437 629.44 91.3391 629.44 Q89.4641 629.44 87.5892 629.857 Q85.7373 630.273 83.7929 631.153 L83.7929 613.792 Z\" fill=\"#000000\" fill-rule=\"nonzero\" fill-opacity=\"1\" /><path clip-path=\"url(#clip290)\" d=\"M56.6171 372.869 L72.9365 372.869 L72.9365 376.804 L50.9921 376.804 L50.9921 372.869 Q53.6541 370.114 58.2375 365.485 Q62.8439 360.832 64.0245 359.489 Q66.2698 356.966 67.1494 355.23 Q68.0522 353.471 68.0522 351.781 Q68.0522 349.027 66.1078 347.29 Q64.1865 345.554 61.0847 345.554 Q58.8856 345.554 56.4319 346.318 Q54.0014 347.082 51.2236 348.633 L51.2236 343.911 Q54.0477 342.777 56.5014 342.198 Q58.955 341.619 60.9921 341.619 Q66.3624 341.619 69.5568 344.304 Q72.7513 346.99 72.7513 351.48 Q72.7513 353.61 71.9411 355.531 Q71.1541 357.429 69.0476 360.022 Q68.4689 360.693 65.367 363.911 Q62.2652 367.105 56.6171 372.869 Z\" fill=\"#000000\" fill-rule=\"nonzero\" fill-opacity=\"1\" /><path clip-path=\"url(#clip290)\" d=\"M92.7512 345.323 Q89.1401 345.323 87.3114 348.888 Q85.5058 352.429 85.5058 359.559 Q85.5058 366.665 87.3114 370.23 Q89.1401 373.772 92.7512 373.772 Q96.3854 373.772 98.1909 370.23 Q100.02 366.665 100.02 359.559 Q100.02 352.429 98.1909 348.888 Q96.3854 345.323 92.7512 345.323 M92.7512 341.619 Q98.5613 341.619 101.617 346.226 Q104.696 350.809 104.696 359.559 Q104.696 368.286 101.617 372.892 Q98.5613 377.475 92.7512 377.475 Q86.941 377.475 83.8623 372.892 Q80.8068 368.286 80.8068 359.559 Q80.8068 350.809 83.8623 346.226 Q86.941 341.619 92.7512 341.619 Z\" fill=\"#000000\" fill-rule=\"nonzero\" fill-opacity=\"1\" /><path clip-path=\"url(#clip290)\" d=\"M57.6125 101.321 L73.9318 101.321 L73.9318 105.256 L51.9875 105.256 L51.9875 101.321 Q54.6495 98.5665 59.2328 93.9369 Q63.8393 89.2841 65.0198 87.9416 Q67.2652 85.4184 68.1448 83.6823 Q69.0476 81.9231 69.0476 80.2333 Q69.0476 77.4786 67.1032 75.7425 Q65.1819 74.0064 62.08 74.0064 Q59.881 74.0064 57.4273 74.7703 Q54.9967 75.5342 52.219 77.0851 L52.219 72.3629 Q55.043 71.2287 57.4967 70.65 Q59.9504 70.0713 61.9874 70.0713 Q67.3578 70.0713 70.5522 72.7565 Q73.7466 75.4416 73.7466 79.9323 Q73.7466 82.062 72.9365 83.9832 Q72.1494 85.8814 70.0429 88.474 Q69.4642 89.1453 66.3624 92.3628 Q63.2606 95.5573 57.6125 101.321 Z\" fill=\"#000000\" fill-rule=\"nonzero\" fill-opacity=\"1\" /><path clip-path=\"url(#clip290)\" d=\"M83.7929 70.6963 L102.149 70.6963 L102.149 74.6314 L88.0753 74.6314 L88.0753 83.1036 Q89.0938 82.7564 90.1123 82.5944 Q91.1308 82.4092 92.1493 82.4092 Q97.9363 82.4092 101.316 85.5805 Q104.696 88.7517 104.696 94.1684 Q104.696 99.747 101.223 102.849 Q97.7511 105.928 91.4317 105.928 Q89.2558 105.928 86.9873 105.557 Q84.7419 105.187 82.3346 104.446 L82.3346 99.747 Q84.4179 100.881 86.6401 101.437 Q88.8623 101.992 91.3391 101.992 Q95.3437 101.992 97.6817 99.8859 Q100.02 97.7795 100.02 94.1684 Q100.02 90.5573 97.6817 88.4508 Q95.3437 86.3443 91.3391 86.3443 Q89.4641 86.3443 87.5892 86.761 Q85.7373 87.1777 83.7929 88.0573 L83.7929 70.6963 Z\" fill=\"#000000\" fill-rule=\"nonzero\" fill-opacity=\"1\" /><polyline clip-path=\"url(#clip292)\" style=\"stroke:#009af9; stroke-linecap:round; stroke-linejoin:round; stroke-width:4; stroke-opacity:1; fill:none\" points=\"203.301,87.9763 411.986,576.762 620.671,956.93 829.356,1228.48 1038.04,1391.41 1246.73,1445.72 1455.41,1391.41 1664.1,1228.48 1872.78,956.93 2081.47,576.762 2290.15,87.9763 \"/>\n",
              "<path clip-path=\"url(#clip290)\" d=\"M1898.26 1438.47 L2279.02 1438.47 L2279.02 1334.79 L1898.26 1334.79  Z\" fill=\"#ffffff\" fill-rule=\"evenodd\" fill-opacity=\"1\"/>\n",
              "<polyline clip-path=\"url(#clip290)\" style=\"stroke:#000000; stroke-linecap:round; stroke-linejoin:round; stroke-width:4; stroke-opacity:1; fill:none\" points=\"1898.26,1438.47 2279.02,1438.47 2279.02,1334.79 1898.26,1334.79 1898.26,1438.47 \"/>\n",
              "<polyline clip-path=\"url(#clip290)\" style=\"stroke:#009af9; stroke-linecap:round; stroke-linejoin:round; stroke-width:4; stroke-opacity:1; fill:none\" points=\"1922.83,1386.63 2070.3,1386.63 \"/>\n",
              "<path clip-path=\"url(#clip290)\" d=\"M2108.73 1406.32 Q2106.92 1410.95 2105.21 1412.36 Q2103.49 1413.78 2100.62 1413.78 L2097.22 1413.78 L2097.22 1410.21 L2099.72 1410.21 Q2101.48 1410.21 2102.45 1409.38 Q2103.42 1408.54 2104.6 1405.44 L2105.37 1403.5 L2094.88 1377.99 L2099.4 1377.99 L2107.5 1398.27 L2115.6 1377.99 L2120.11 1377.99 L2108.73 1406.32 Z\" fill=\"#000000\" fill-rule=\"nonzero\" fill-opacity=\"1\" /><path clip-path=\"url(#clip290)\" d=\"M2126.55 1382.39 L2156.23 1382.39 L2156.23 1386.28 L2126.55 1386.28 L2126.55 1382.39 M2126.55 1391.83 L2156.23 1391.83 L2156.23 1395.77 L2126.55 1395.77 L2126.55 1391.83 Z\" fill=\"#000000\" fill-rule=\"nonzero\" fill-opacity=\"1\" /><path clip-path=\"url(#clip290)\" d=\"M2187.27 1377.99 L2177.89 1390.6 L2187.75 1403.91 L2182.73 1403.91 L2175.18 1393.73 L2167.64 1403.91 L2162.61 1403.91 L2172.68 1390.35 L2163.47 1377.99 L2168.49 1377.99 L2175.37 1387.22 L2182.24 1377.99 L2187.27 1377.99 Z\" fill=\"#000000\" fill-rule=\"nonzero\" fill-opacity=\"1\" /><path clip-path=\"url(#clip290)\" d=\"M2211.43 1369.35 L2224 1382.25 L2219.35 1382.25 L2209.16 1373.1 L2198.98 1382.25 L2194.33 1382.25 L2206.9 1369.35 L2211.43 1369.35 Z\" fill=\"#000000\" fill-rule=\"nonzero\" fill-opacity=\"1\" /><path clip-path=\"url(#clip290)\" d=\"M2238.12 1399.98 L2254.44 1399.98 L2254.44 1403.91 L2232.5 1403.91 L2232.5 1399.98 Q2235.16 1397.22 2239.74 1392.6 Q2244.35 1387.94 2245.53 1386.6 Q2247.78 1384.08 2248.66 1382.34 Q2249.56 1380.58 2249.56 1378.89 Q2249.56 1376.14 2247.61 1374.4 Q2245.69 1372.66 2242.59 1372.66 Q2240.39 1372.66 2237.94 1373.43 Q2235.51 1374.19 2232.73 1375.74 L2232.73 1371.02 Q2235.55 1369.89 2238.01 1369.31 Q2240.46 1368.73 2242.5 1368.73 Q2247.87 1368.73 2251.06 1371.41 Q2254.26 1374.1 2254.26 1378.59 Q2254.26 1380.72 2253.45 1382.64 Q2252.66 1384.54 2250.55 1387.13 Q2249.97 1387.8 2246.87 1391.02 Q2243.77 1394.22 2238.12 1399.98 Z\" fill=\"#000000\" fill-rule=\"nonzero\" fill-opacity=\"1\" /></svg>\n"
            ]
          },
          "metadata": {},
          "output_type": "display_data"
        }
      ],
      "source": [
        "question3()"
      ]
    },
    {
      "cell_type": "code",
      "execution_count": null,
      "id": "449e6c85",
>>>>>>> Stashed changes
      "metadata": {},
      "outputs": [],
      "source": [
        "# insert your code here"
      ],
      "id": "6ba4fce5"
    },
    {
      "cell_type": "markdown",
      "metadata": {},
      "source": [
        "## Export and Submit the Notebook (1 point)\n",
        "\n",
        "The last step is to export the notebook for submission to Gradescope\n",
        "(this section won’t be repeated going forward, but the steps are the\n",
        "same).\n",
        "\n",
        "You should see the following menu bar at the top of the VS Code window:\n",
        "![Notebook Menu Bar](attachment:figures/vs-code-top-bar.png)\n",
        "\n",
        "1.  Click “Run All” at the top to execute all of the cells in order.\n",
        "    **Please do not forget to do this before exporting and submitting or\n",
        "    you may lose points because your code has not been executed or may\n",
        "    have errors**.\n",
        "2.  Click the ellipsis (“…”) and select “Export”. If you have LaTeX\n",
        "    installed, you can click “PDF”; otherwise, click “HTML.” Save the\n",
        "    file, and then when prompted, open the file. This should open the\n",
        "    page in your browser; go to the print interface and save as a PDF.\n",
        "    ::: {.callout-tip} When printing to PDF, long lines will run off the\n",
        "    edge of code cells, which may result in comments or code being\n",
        "    hidden. If you see this, go back to the notebook and break up long\n",
        "    lines into shorter onces (for example, see the comment in the above\n",
        "    code cell) to ensure key parts of your results aren’t missing. :::\n",
        "\n",
        "Great! That’s the basic workflow for every assignment in this course.\n",
        "\n",
        "Now you have your PDF that you can submit to Gradescope. Make sure that\n",
        "you tag pages corresponding to relevant problems to avoid a 10% penalty."
      ],
      "attachments": {
        "figures/vs-code-top-bar.png": {
          "image/png": "iVBORw0KGgoAAAANSUhEUgAABDgAAAA8CAYAAACDzgqKAAAKqmlDQ1BJQ0MgUHJvZmlsZQAASImV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\nMAgYBAwCBgGDgEHAIGAQ+P+qgpe45Xk/JQAAAABJRU5ErkJggg==\n"
        }
      },
      "id": "156625e4-aa98-4f5a-aa14-b788832a4288"
    }
  ],
  "nbformat": 4,
  "nbformat_minor": 5,
  "metadata": {
    "kernelspec": {
      "name": "julia-1.9",
      "display_name": "Julia 1.9.3",
      "language": "julia"
    },
    "language_info": {
      "name": "julia",
      "file_extension": ".jl",
      "mimetype": "application/julia",
      "version": "1.9.3"
    }
  }
}